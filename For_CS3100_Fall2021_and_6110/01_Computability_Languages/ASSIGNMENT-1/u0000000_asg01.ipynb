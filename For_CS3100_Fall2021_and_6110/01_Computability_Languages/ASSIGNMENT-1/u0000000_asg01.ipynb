{
 "cells": [
  {
   "cell_type": "markdown",
   "metadata": {
    "id": "gOJcNwa-9t-M"
   },
   "source": [
    "### BEFORE YOU SUBMIT THIS FILE, PLEASE RENAME THIS FILE BY REPLACING THE 0000000 IN THE FILE NAME WITH YOUR CORRECT UNID. KEEP THE \"u\" AT THE BEGINNING."
   ]
  },
  {
   "cell_type": "code",
   "execution_count": 1,
   "metadata": {
    "id": "4F8Z5eEX98j1"
   },
   "outputs": [
    {
     "name": "stdout",
     "output_type": "stream",
     "text": [
      "You may use any of these help commands:\n",
      "help(lphi)\n",
      "help(lunit)\n",
      "help(lcat)\n",
      "help(lexp)\n",
      "help(lunion)\n",
      "help(lstar)\n",
      "help(srev)\n",
      "help(lrev)\n",
      "help(shomo)\n",
      "help(lhomo)\n",
      "help(powset)\n",
      "help(lint)\n",
      "help(lsymdiff)\n",
      "help(lminus)\n",
      "help(lissubset)\n",
      "help(lissuperset)\n",
      "help(lcomplem)\n",
      "help(product)\n",
      "help(nthnumeric)\n",
      "\n"
     ]
    }
   ],
   "source": [
    "#~~~~~~~~~~~~~~~~~~~~~~~~~~~~~~~~~~~~~~~~~~~~~~~~~~~~~~~\n",
    "import sys\n",
    "\n",
    "# -- Detect if in Own Install or in Colab\n",
    "try:\n",
    "    import google.colab\n",
    "    OWN_INSTALL = False\n",
    "except:\n",
    "    OWN_INSTALL = True\n",
    "    \n",
    "if OWN_INSTALL:\n",
    "    \n",
    "  #---- Leave these definitions ON if running on laptop\n",
    "  #---- Else turn OFF by putting them between ''' ... '''\n",
    "\n",
    "  sys.path[0:0] = ['../../../../..',  '../../../../../3rdparty',  \n",
    "                   '../../../..',  '../../../../3rdparty',  \n",
    "                   '../../..',     '../../../3rdparty', \n",
    "                   '../..',        '../../3rdparty',\n",
    "                   '..',           '../3rdparty' ]\n",
    "\n",
    "else: # In colab\n",
    "  ! if [ ! -d Jove ]; then git clone https://github.com/ganeshutah/Jove Jove; fi\n",
    "  sys.path.append('./Jove')\n",
    "  sys.path.append('./Jove/jove')\n",
    "\n",
    "# -- common imports --\n",
    "from jove.LangDef   import *\n",
    "#~~~~~~~~~~~~~~~~~~~~~~~~~~~~~~~~~~~~~~~~~~~~~~~~~~~~~~~"
   ]
  },
  {
   "cell_type": "markdown",
   "metadata": {
    "id": "UqyylUAu-NHk"
   },
   "source": [
    "# Question 1"
   ]
  },
  {
   "cell_type": "markdown",
   "metadata": {
    "id": "9AMcC5Fu-QZE"
   },
   "source": [
    "##Part a: Define the universe $\\Sigma_4^*$ for the $\\Sigma$ given below using a function defined in Jove. (Page 28-29 Textbook)"
   ]
  },
  {
   "cell_type": "code",
   "execution_count": 11,
   "metadata": {
    "id": "gg7liBdM_LYu"
   },
   "outputs": [
    {
     "data": {
      "text/plain": [
       "{'',\n",
       " 'a',\n",
       " 'aa',\n",
       " 'aaa',\n",
       " 'aaaa',\n",
       " 'aaab',\n",
       " 'aaac',\n",
       " 'aab',\n",
       " 'aaba',\n",
       " 'aabb',\n",
       " 'aabc',\n",
       " 'aac',\n",
       " 'aaca',\n",
       " 'aacb',\n",
       " 'aacc',\n",
       " 'ab',\n",
       " 'aba',\n",
       " 'abaa',\n",
       " 'abab',\n",
       " 'abac',\n",
       " 'abb',\n",
       " 'abba',\n",
       " 'abbb',\n",
       " 'abbc',\n",
       " 'abc',\n",
       " 'abca',\n",
       " 'abcb',\n",
       " 'abcc',\n",
       " 'ac',\n",
       " 'aca',\n",
       " 'acaa',\n",
       " 'acab',\n",
       " 'acac',\n",
       " 'acb',\n",
       " 'acba',\n",
       " 'acbb',\n",
       " 'acbc',\n",
       " 'acc',\n",
       " 'acca',\n",
       " 'accb',\n",
       " 'accc',\n",
       " 'b',\n",
       " 'ba',\n",
       " 'baa',\n",
       " 'baaa',\n",
       " 'baab',\n",
       " 'baac',\n",
       " 'bab',\n",
       " 'baba',\n",
       " 'babb',\n",
       " 'babc',\n",
       " 'bac',\n",
       " 'baca',\n",
       " 'bacb',\n",
       " 'bacc',\n",
       " 'bb',\n",
       " 'bba',\n",
       " 'bbaa',\n",
       " 'bbab',\n",
       " 'bbac',\n",
       " 'bbb',\n",
       " 'bbba',\n",
       " 'bbbb',\n",
       " 'bbbc',\n",
       " 'bbc',\n",
       " 'bbca',\n",
       " 'bbcb',\n",
       " 'bbcc',\n",
       " 'bc',\n",
       " 'bca',\n",
       " 'bcaa',\n",
       " 'bcab',\n",
       " 'bcac',\n",
       " 'bcb',\n",
       " 'bcba',\n",
       " 'bcbb',\n",
       " 'bcbc',\n",
       " 'bcc',\n",
       " 'bcca',\n",
       " 'bccb',\n",
       " 'bccc',\n",
       " 'c',\n",
       " 'ca',\n",
       " 'caa',\n",
       " 'caaa',\n",
       " 'caab',\n",
       " 'caac',\n",
       " 'cab',\n",
       " 'caba',\n",
       " 'cabb',\n",
       " 'cabc',\n",
       " 'cac',\n",
       " 'caca',\n",
       " 'cacb',\n",
       " 'cacc',\n",
       " 'cb',\n",
       " 'cba',\n",
       " 'cbaa',\n",
       " 'cbab',\n",
       " 'cbac',\n",
       " 'cbb',\n",
       " 'cbba',\n",
       " 'cbbb',\n",
       " 'cbbc',\n",
       " 'cbc',\n",
       " 'cbca',\n",
       " 'cbcb',\n",
       " 'cbcc',\n",
       " 'cc',\n",
       " 'cca',\n",
       " 'ccaa',\n",
       " 'ccab',\n",
       " 'ccac',\n",
       " 'ccb',\n",
       " 'ccba',\n",
       " 'ccbb',\n",
       " 'ccbc',\n",
       " 'ccc',\n",
       " 'ccca',\n",
       " 'cccb',\n",
       " 'cccc'}"
      ]
     },
     "execution_count": 11,
     "metadata": {},
     "output_type": "execute_result"
    }
   ],
   "source": [
    "Sigma = {'a', 'b', 'c'}\n",
    "\n",
    "Sigma_4_Star = lstar(Sigma, 4)\n",
    "Sigma_4_Star"
   ]
  },
  {
   "cell_type": "markdown",
   "metadata": {
    "id": "5ouTH_z4_fz0"
   },
   "source": [
    "## Part b: Given two sets:\n",
    "\n",
    "* $A = \\{a, \\varepsilon , bc\\}$\n",
    "\n",
    "* $B = \\{a, \\varepsilon, bba, ca\\}$\n",
    "\n",
    "## Illustrate DeMorgan's law with respect to these specific instructions:\n",
    "\n",
    "* Let LHS = $\\overline{(A\\cup B)}$ and RHS = $\\overline{A} \\cap \\overline{B}$. By using Jove's functions, show that $\\overline{(A\\cup B)} = \\overline{A} \\cap \\overline{B}$."
   ]
  },
  {
   "cell_type": "code",
   "execution_count": 3,
   "metadata": {
    "colab": {
     "base_uri": "https://localhost:8080/"
    },
    "id": "wFsWz-8VEGme",
    "outputId": "072c530e-1aef-432b-c5ff-c5694a6d8211"
   },
   "outputs": [
    {
     "name": "stdout",
     "output_type": "stream",
     "text": [
      "Help on function lcomplem in module jove.LangDef:\n",
      "\n",
      "lcomplem(L, sigma, n)\n",
      "    In : L (language : set of strings)\n",
      "         sigma (alphabet : set of strings)\n",
      "         n (finite limit for lstar : int)\n",
      "    Out : sigma*_n - L (language : set of strings)\n",
      "    Example:\n",
      "    L = {'0', '10', '010'}\n",
      "    sigma = {'0', '1'}\n",
      "    n = 3\n",
      "    lcomplem(L4,{'0','1'}, 3) -> \n",
      "    {'', '000', '101', '011', '00', '1', \n",
      "     '001', '110', '111', '100', '01', '11'}\n",
      "\n",
      "Help on function lunion in module jove.LangDef:\n",
      "\n",
      "lunion(L1, L2)\n",
      "    In : L1 (language : a set),\n",
      "         L2 (language : a set).\n",
      "    Out: L1 union L2 (language : a set).\n",
      "\n",
      "Help on function lint in module jove.LangDef:\n",
      "\n",
      "lint(L1, L2)\n",
      "    In : L1 (language : set of strings)\n",
      "         L2 (language : set of strings)\n",
      "    Out: L1 intersection L2 (sets of strings)\n",
      "\n"
     ]
    }
   ],
   "source": [
    "#The Jove functions you need:\n",
    "help(lcomplem)\n",
    "help(lunion)\n",
    "help(lint)"
   ]
  },
  {
   "cell_type": "code",
   "execution_count": 14,
   "metadata": {
    "id": "B0UawXyGEl62"
   },
   "outputs": [],
   "source": [
    "A = {'a', '' , 'bc'}\n",
    "\n",
    "B = {'a', '', 'bba', 'c'}\n",
    "\n",
    "LHS = lcomplem(lunion(A,B), Sigma, 4)\n",
    "\n",
    "RHS = lint(lcomplem(A, Sigma, 4), lcomplem(B, Sigma, 4))"
   ]
  },
  {
   "cell_type": "code",
   "execution_count": 15,
   "metadata": {
    "colab": {
     "base_uri": "https://localhost:8080/"
    },
    "id": "RQqPynA6FFLl",
    "outputId": "cfa8bf89-2fc1-46ba-9f2b-0d72995ec031"
   },
   "outputs": [
    {
     "data": {
      "text/plain": [
       "True"
      ]
     },
     "execution_count": 15,
     "metadata": {},
     "output_type": "execute_result"
    }
   ],
   "source": [
    "# Now, perform LHS == RHS in Python and check if it is true\n",
    "\n",
    "LHS == RHS"
   ]
  },
  {
   "cell_type": "markdown",
   "metadata": {
    "id": "9VwisEcEFIuE"
   },
   "source": [
    "# Question 2\n"
   ]
  },
  {
   "cell_type": "markdown",
   "metadata": {
    "id": "lNgnnBNKF8oM"
   },
   "source": [
    "**Theorem:**\n",
    "The concatenation of any two languages $L_1$ and $L_2$ has smaller size than their cartesian product if and only if the intersection of those two languages has at least 2 elements and contains $\\varepsilon$.\n"
   ]
  },
  {
   "cell_type": "markdown",
   "metadata": {
    "id": "fFOhZ-kSOMh8"
   },
   "source": [
    "## Part a: Define two languages L1 and L2. L1 and L2 must both contain  ε. Then, run Code Cell 01 and get the result: \"cat and product have the same size\"."
   ]
  },
  {
   "cell_type": "code",
   "execution_count": 20,
   "metadata": {
    "id": "VdBv80INOgz9"
   },
   "outputs": [],
   "source": [
    "#Define L1 and L2 here\n",
    "L1 = {'', 'a'}\n",
    "L2 = {'', 'b'}"
   ]
  },
  {
   "cell_type": "code",
   "execution_count": 21,
   "metadata": {
    "colab": {
     "base_uri": "https://localhost:8080/",
     "height": 351
    },
    "id": "l6kOK6kcPhHd",
    "outputId": "35a45b5f-561d-4b95-d281-9c05941059d1"
   },
   "outputs": [
    {
     "name": "stdout",
     "output_type": "stream",
     "text": [
      "Cat of L1 and L2 is {'', 'b', 'a', 'ab'}  of size  4\n",
      "Intersection of L1 and L2 is {''}  of size  1\n",
      "Product of L1 and L2 is {('a', ''), ('', 'b'), ('a', 'b'), ('', '')}  of size  4\n",
      " cat and product have the same size \n"
     ]
    }
   ],
   "source": [
    "#Code Cell 01\n",
    "catL1L2 = lcat(L1,L2)\n",
    "lencatL1L2 = len(catL1L2)\n",
    "print(\"Cat of L1 and L2 is\", catL1L2, \" of size \", lencatL1L2)\n",
    "\n",
    "\n",
    "# Perform L1 and L2 intersection\n",
    "intL1L2 = lint(L1,L2)\n",
    "lenintL1L2 = len(intL1L2)\n",
    "print(\"Intersection of L1 and L2 is\", intL1L2, \" of size \", lenintL1L2)\n",
    "\n",
    "# Define the product of L1 and L2\n",
    "prodL1L2 = { (x,y) for x in L1 for y in L2 }\n",
    "lenprodL1L2 = len(prodL1L2)\n",
    "print(\"Product of L1 and L2 is\", prodL1L2, \" of size \", lenprodL1L2)\n",
    "\n",
    "if (lenprodL1L2 != lencatL1L2):\n",
    "    print(\" cat and product differ in size \")\n",
    "else:\n",
    "    print(\" cat and product have the same size \")"
   ]
  },
  {
   "cell_type": "markdown",
   "metadata": {
    "id": "LFA6OH1dQW88"
   },
   "source": [
    "## Part b: Re-define L1 and L2. L1 and L2 must both contain  ε. Then, run Code Cell 02 so that the result = \"cat and product differ in size\"."
   ]
  },
  {
   "cell_type": "code",
   "execution_count": 22,
   "metadata": {
    "id": "JE69DJsyQoMz"
   },
   "outputs": [],
   "source": [
    "#Re-define L1 and L2 here\n",
    "L1 = {'', 'a'}\n",
    "L2 = {'', 'a'}"
   ]
  },
  {
   "cell_type": "code",
   "execution_count": 23,
   "metadata": {
    "id": "pr9-1zsqQrIU"
   },
   "outputs": [
    {
     "name": "stdout",
     "output_type": "stream",
     "text": [
      "Cat of L1 and L2 is {'', 'aa', 'a'}  of size  3\n",
      "Intersection of L1 and L2 is {'', 'a'}  of size  2\n",
      "Product of L1 and L2 is {('', 'a'), ('a', 'a'), ('a', ''), ('', '')}  of size  4\n",
      " cat and product differ in size \n"
     ]
    }
   ],
   "source": [
    "#Code Cell 02\n",
    "catL1L2 = lcat(L1,L2)\n",
    "lencatL1L2 = len(catL1L2)\n",
    "print(\"Cat of L1 and L2 is\", catL1L2, \" of size \", lencatL1L2)\n",
    "\n",
    "\n",
    "# Perform L1 and L2 intersection\n",
    "intL1L2 = lint(L1,L2)\n",
    "lenintL1L2 = len(intL1L2)\n",
    "print(\"Intersection of L1 and L2 is\", intL1L2, \" of size \", lenintL1L2)\n",
    "\n",
    "# Define the product of L1 and L2\n",
    "prodL1L2 = { (x,y) for x in L1 for y in L2 }\n",
    "lenprodL1L2 = len(prodL1L2)\n",
    "print(\"Product of L1 and L2 is\", prodL1L2, \" of size \", lenprodL1L2)\n",
    "\n",
    "if (lenprodL1L2 != lencatL1L2):\n",
    "    print(\" cat and product differ in size \")\n",
    "else:\n",
    "    print(\" cat and product have the same size \")"
   ]
  },
  {
   "cell_type": "markdown",
   "metadata": {
    "id": "0q4IxOI8R-Vs"
   },
   "source": [
    "# Question 3"
   ]
  },
  {
   "cell_type": "markdown",
   "metadata": {
    "id": "LYcZql5HU17V"
   },
   "source": [
    "## Consider this statement:  \n",
    "For any two languages $L_1$ and $L_2$, their intersection **can never have the same size as**  their concatenation if both languages are finite. \n",
    "\n",
    "__(This is an error-corrected question. See Piazza note @44 for details.)__"
   ]
  },
  {
   "cell_type": "markdown",
   "metadata": {
    "id": "XC4TifENW2h0"
   },
   "source": [
    "## Now, define two languages where this claim is false."
   ]
  },
  {
   "cell_type": "code",
   "execution_count": 26,
   "metadata": {
    "id": "zOnqyAzzZJNe"
   },
   "outputs": [
    {
     "name": "stdout",
     "output_type": "stream",
     "text": [
      "intersection =  {''}\n",
      "concatenation =  {''}\n"
     ]
    }
   ],
   "source": [
    "# Define two FINITE languages\n",
    "L1 = {''}\n",
    "L2 = {''}\n",
    "\n",
    "# Perform their intersection\n",
    "intL1L2 = lint(L1,L2)\n",
    "\n",
    "# Perform their concatenation\n",
    "catL1L2 = lcat(L1,L2)\n",
    "\n",
    "# Compare the intersection and the concatenation\n",
    "print(\"intersection = \", intL1L2)\n",
    "print(\"concatenation = \", catL1L2)"
   ]
  },
  {
   "cell_type": "markdown",
   "metadata": {
    "id": "eTYZQbh8fy8d"
   },
   "source": [
    "# Question 4"
   ]
  },
  {
   "cell_type": "markdown",
   "metadata": {
    "id": "RPVfMhEampQ_"
   },
   "source": [
    "## Define a regular language using Python's set builder (set comprehension) syntax\n",
    "<font size=\"4\"> \n",
    "    \n",
    "Recall from Chapter-1 that sets of strings of the form \"any number of $a$'s followed by any number of $b$'s followed by any number of $c$'s are regular languages.\n",
    "\n",
    "* Here, for instance, is a regular language\n",
    "    \n",
    "    $$ \\{ a^i b^j c^k \\;:\\; i,j,k \\ge 0 \\}$$\n",
    "  \n",
    "\n",
    "**Task for you**:\n",
    "\n",
    "* Define this set in Python: $$ \\{ a^i b^j c^k \\;:\\; 0 \\le i,j,k \\le 4 \\}$$\n",
    "\n",
    "**IMPORTANT NOTE**: ALL finite sets are regular. Thus by truncating the set to a finite size, we always get a regular language. The purpose of truncation is ONLY to make sure that the printing stops. What we are really referring to as a regular language of interest is the mathematical language\n",
    "\n",
    "\n",
    "    \n",
    "    \n",
    "</font>  "
   ]
  },
  {
   "cell_type": "code",
   "execution_count": 30,
   "metadata": {
    "id": "V96-pVokn7lN",
    "tags": []
   },
   "outputs": [
    {
     "data": {
      "text/plain": [
       "{'',\n",
       " 'a',\n",
       " 'aa',\n",
       " 'aaa',\n",
       " 'aaaa',\n",
       " 'aaaab',\n",
       " 'aaaabb',\n",
       " 'aaaabbb',\n",
       " 'aaaabbbb',\n",
       " 'aaaabbbbc',\n",
       " 'aaaabbbbcc',\n",
       " 'aaaabbbbccc',\n",
       " 'aaaabbbbcccc',\n",
       " 'aaaabbbc',\n",
       " 'aaaabbbcc',\n",
       " 'aaaabbbccc',\n",
       " 'aaaabbbcccc',\n",
       " 'aaaabbc',\n",
       " 'aaaabbcc',\n",
       " 'aaaabbccc',\n",
       " 'aaaabbcccc',\n",
       " 'aaaabc',\n",
       " 'aaaabcc',\n",
       " 'aaaabccc',\n",
       " 'aaaabcccc',\n",
       " 'aaaac',\n",
       " 'aaaacc',\n",
       " 'aaaaccc',\n",
       " 'aaaacccc',\n",
       " 'aaab',\n",
       " 'aaabb',\n",
       " 'aaabbb',\n",
       " 'aaabbbb',\n",
       " 'aaabbbbc',\n",
       " 'aaabbbbcc',\n",
       " 'aaabbbbccc',\n",
       " 'aaabbbbcccc',\n",
       " 'aaabbbc',\n",
       " 'aaabbbcc',\n",
       " 'aaabbbccc',\n",
       " 'aaabbbcccc',\n",
       " 'aaabbc',\n",
       " 'aaabbcc',\n",
       " 'aaabbccc',\n",
       " 'aaabbcccc',\n",
       " 'aaabc',\n",
       " 'aaabcc',\n",
       " 'aaabccc',\n",
       " 'aaabcccc',\n",
       " 'aaac',\n",
       " 'aaacc',\n",
       " 'aaaccc',\n",
       " 'aaacccc',\n",
       " 'aab',\n",
       " 'aabb',\n",
       " 'aabbb',\n",
       " 'aabbbb',\n",
       " 'aabbbbc',\n",
       " 'aabbbbcc',\n",
       " 'aabbbbccc',\n",
       " 'aabbbbcccc',\n",
       " 'aabbbc',\n",
       " 'aabbbcc',\n",
       " 'aabbbccc',\n",
       " 'aabbbcccc',\n",
       " 'aabbc',\n",
       " 'aabbcc',\n",
       " 'aabbccc',\n",
       " 'aabbcccc',\n",
       " 'aabc',\n",
       " 'aabcc',\n",
       " 'aabccc',\n",
       " 'aabcccc',\n",
       " 'aac',\n",
       " 'aacc',\n",
       " 'aaccc',\n",
       " 'aacccc',\n",
       " 'ab',\n",
       " 'abb',\n",
       " 'abbb',\n",
       " 'abbbb',\n",
       " 'abbbbc',\n",
       " 'abbbbcc',\n",
       " 'abbbbccc',\n",
       " 'abbbbcccc',\n",
       " 'abbbc',\n",
       " 'abbbcc',\n",
       " 'abbbccc',\n",
       " 'abbbcccc',\n",
       " 'abbc',\n",
       " 'abbcc',\n",
       " 'abbccc',\n",
       " 'abbcccc',\n",
       " 'abc',\n",
       " 'abcc',\n",
       " 'abccc',\n",
       " 'abcccc',\n",
       " 'ac',\n",
       " 'acc',\n",
       " 'accc',\n",
       " 'acccc',\n",
       " 'b',\n",
       " 'bb',\n",
       " 'bbb',\n",
       " 'bbbb',\n",
       " 'bbbbc',\n",
       " 'bbbbcc',\n",
       " 'bbbbccc',\n",
       " 'bbbbcccc',\n",
       " 'bbbc',\n",
       " 'bbbcc',\n",
       " 'bbbccc',\n",
       " 'bbbcccc',\n",
       " 'bbc',\n",
       " 'bbcc',\n",
       " 'bbccc',\n",
       " 'bbcccc',\n",
       " 'bc',\n",
       " 'bcc',\n",
       " 'bccc',\n",
       " 'bcccc',\n",
       " 'c',\n",
       " 'cc',\n",
       " 'ccc',\n",
       " 'cccc'}"
      ]
     },
     "execution_count": 30,
     "metadata": {},
     "output_type": "execute_result"
    }
   ],
   "source": [
    "# The above regular language truncated to a small size, below\n",
    "n = 5\n",
    "A_reg_language = {'a' * i + 'b' * j + 'c' * k for i in range(n) for j in range(n) for k in range(n)}\n",
    "\n",
    "# Print its contents\n",
    "A_reg_language"
   ]
  },
  {
   "cell_type": "markdown",
   "metadata": {
    "id": "vyf0eAkgqJFc"
   },
   "source": [
    "## Define a context-free language using Python's set builder (set comprehension) syntax\n",
    "\n",
    "<font size=\"4\"> \n",
    "    \n",
    "Recall from Chapter-1 that sets of strings of the form \"any number of $a$'s followed by the same number of $b$'s and $c$'s is context-free.\n",
    "    \n",
    "* Here, for instance, is a context-free language\n",
    "    \n",
    "    $$ \\{ a^i b^j c^j \\;:\\; i,j \\ge 0 \\}$$\n",
    "     \n",
    "\n",
    "**Task for you**:\n",
    "\n",
    "* Define the above set in Python, again limiting $i,j,k$ to be in $\\{0, \\ldots, 4\\}$.\n",
    "\n",
    "**IMPORTANT NOTE**: ALL finite sets are regular. Thus by truncating the set to a finite size, we always get a regular language. The purpose of truncation is ONLY to make sure that the printing stops. What we are really referring to as a **context-free language** of interest is the mathematical language\n",
    "\n",
    "   $$ \\{ a^i b^j c^j \\;:\\; i,j \\ge 0 \\}$$\n",
    "    \n",
    "    \n",
    "</font>  "
   ]
  },
  {
   "cell_type": "code",
   "execution_count": 33,
   "metadata": {
    "id": "SKBecDclqMz6"
   },
   "outputs": [
    {
     "data": {
      "text/plain": [
       "{'',\n",
       " 'a',\n",
       " 'aa',\n",
       " 'aaa',\n",
       " 'aaaa',\n",
       " 'aaaabbbbcccc',\n",
       " 'aaaabbbccc',\n",
       " 'aaaabbcc',\n",
       " 'aaaabc',\n",
       " 'aaabbbbcccc',\n",
       " 'aaabbbccc',\n",
       " 'aaabbcc',\n",
       " 'aaabc',\n",
       " 'aabbbbcccc',\n",
       " 'aabbbccc',\n",
       " 'aabbcc',\n",
       " 'aabc',\n",
       " 'abbbbcccc',\n",
       " 'abbbccc',\n",
       " 'abbcc',\n",
       " 'abc',\n",
       " 'bbbbcccc',\n",
       " 'bbbccc',\n",
       " 'bbcc',\n",
       " 'bc'}"
      ]
     },
     "execution_count": 33,
     "metadata": {},
     "output_type": "execute_result"
    }
   ],
   "source": [
    "# Your Python definition of a context-free language, below\n",
    "n = 5\n",
    "A_context_free_language = {'a' * i + 'b' * j + 'c' * j for i in range(n) for j in range(n)}\n",
    "\n",
    "# Print its contents\n",
    "A_context_free_language "
   ]
  },
  {
   "cell_type": "markdown",
   "metadata": {
    "id": "hQd6gsQNqWE0"
   },
   "source": [
    "## Define another context-free language  \n",
    "\n",
    "<font size=\"4\"> \n",
    "    \n",
    "In Chapter 4, we will study the Pumping Lemma to argue that this language is not context-free:\n",
    "    $$L_{if} = \\{ a^i b^j c^k  {\\rm if}\\ ( i = 2 )\\ {\\rm then}\\ (j=k) \\}$$\n",
    "    \n",
    "\n",
    "\n",
    "**Task for you**:\n",
    "\n",
    "* Define $L_{if}$ in Python. Limit $i,j,k$ to be in $\\{0, \\ldots, 4\\}$.\n",
    "* List all the strings where the condition $(i=2)$ is met. How many such strings are there?\n",
    "    \n",
    "**IMPORTANT NOTE**: ALL finite sets are regular. Thus by truncating the set to a finite size, we always get a regular language. The purpose of truncation is ONLY to make sure that the printing stops. What we are really referring to as a **context-free language** of interest is the mathematical language\n",
    "\n",
    "   \n",
    "  $$L_{if} = \\{ a^i b^j c^k \\;:\\; {\\rm if}\\; (i=2)\\; {\\rm then}\\; (j=k) \\}$$\n",
    "    \n",
    "    \n",
    "</font>  "
   ]
  },
  {
   "cell_type": "code",
   "execution_count": 35,
   "metadata": {
    "id": "-rjjdrsLqYb8"
   },
   "outputs": [
    {
     "data": {
      "text/plain": [
       "{'',\n",
       " 'a',\n",
       " 'aa',\n",
       " 'aaa',\n",
       " 'aaaa',\n",
       " 'aaaab',\n",
       " 'aaaabb',\n",
       " 'aaaabbb',\n",
       " 'aaaabbbb',\n",
       " 'aaaabbbbc',\n",
       " 'aaaabbbbcc',\n",
       " 'aaaabbbbccc',\n",
       " 'aaaabbbbcccc',\n",
       " 'aaaabbbc',\n",
       " 'aaaabbbcc',\n",
       " 'aaaabbbccc',\n",
       " 'aaaabbbcccc',\n",
       " 'aaaabbc',\n",
       " 'aaaabbcc',\n",
       " 'aaaabbccc',\n",
       " 'aaaabbcccc',\n",
       " 'aaaabc',\n",
       " 'aaaabcc',\n",
       " 'aaaabccc',\n",
       " 'aaaabcccc',\n",
       " 'aaaac',\n",
       " 'aaaacc',\n",
       " 'aaaaccc',\n",
       " 'aaaacccc',\n",
       " 'aaab',\n",
       " 'aaabb',\n",
       " 'aaabbb',\n",
       " 'aaabbbb',\n",
       " 'aaabbbbc',\n",
       " 'aaabbbbcc',\n",
       " 'aaabbbbccc',\n",
       " 'aaabbbbcccc',\n",
       " 'aaabbbc',\n",
       " 'aaabbbcc',\n",
       " 'aaabbbccc',\n",
       " 'aaabbbcccc',\n",
       " 'aaabbc',\n",
       " 'aaabbcc',\n",
       " 'aaabbccc',\n",
       " 'aaabbcccc',\n",
       " 'aaabc',\n",
       " 'aaabcc',\n",
       " 'aaabccc',\n",
       " 'aaabcccc',\n",
       " 'aaac',\n",
       " 'aaacc',\n",
       " 'aaaccc',\n",
       " 'aaacccc',\n",
       " 'aabbbbcccc',\n",
       " 'aabbbccc',\n",
       " 'aabbcc',\n",
       " 'aabc',\n",
       " 'ab',\n",
       " 'abb',\n",
       " 'abbb',\n",
       " 'abbbb',\n",
       " 'abbbbc',\n",
       " 'abbbbcc',\n",
       " 'abbbbccc',\n",
       " 'abbbbcccc',\n",
       " 'abbbc',\n",
       " 'abbbcc',\n",
       " 'abbbccc',\n",
       " 'abbbcccc',\n",
       " 'abbc',\n",
       " 'abbcc',\n",
       " 'abbccc',\n",
       " 'abbcccc',\n",
       " 'abc',\n",
       " 'abcc',\n",
       " 'abccc',\n",
       " 'abcccc',\n",
       " 'ac',\n",
       " 'acc',\n",
       " 'accc',\n",
       " 'acccc',\n",
       " 'b',\n",
       " 'bb',\n",
       " 'bbb',\n",
       " 'bbbb',\n",
       " 'bbbbc',\n",
       " 'bbbbcc',\n",
       " 'bbbbccc',\n",
       " 'bbbbcccc',\n",
       " 'bbbc',\n",
       " 'bbbcc',\n",
       " 'bbbccc',\n",
       " 'bbbcccc',\n",
       " 'bbc',\n",
       " 'bbcc',\n",
       " 'bbccc',\n",
       " 'bbcccc',\n",
       " 'bc',\n",
       " 'bcc',\n",
       " 'bccc',\n",
       " 'bcccc',\n",
       " 'c',\n",
       " 'cc',\n",
       " 'ccc',\n",
       " 'cccc'}"
      ]
     },
     "execution_count": 35,
     "metadata": {},
     "output_type": "execute_result"
    }
   ],
   "source": [
    " \n",
    "# Your Python definition of the language Lif below\n",
    "n = 5\n",
    "Lif =  {'a' * i + 'b' * j + 'c' * j if i == 2 else 'a' * i + 'b' * j + 'c' * k for i in range(n) for j in range(n) for k in range(n)}\n",
    "\n",
    "# print Lif\n",
    "\n",
    "Lif"
   ]
  },
  {
   "cell_type": "markdown",
   "metadata": {
    "id": "IiPeeqXhqaoc"
   },
   "source": [
    "## Number of strings where i = 2, and which are they?\n",
    "\n",
    "- Answer: 5\n",
    "\n",
    "## The strings where i = 2 is met are these:\n",
    "- Answer: \n",
    "aa, aabc, aabbcc, aabbbccc, aabbbbcccc"
   ]
  }
 ],
 "metadata": {
  "colab": {
   "collapsed_sections": [],
   "name": "u0000000_asg01.ipynb",
   "provenance": []
  },
  "kernelspec": {
   "display_name": "Python 3 (ipykernel)",
   "language": "python",
   "name": "python3"
  },
  "language_info": {
   "codemirror_mode": {
    "name": "ipython",
    "version": 3
   },
   "file_extension": ".py",
   "mimetype": "text/x-python",
   "name": "python",
   "nbconvert_exporter": "python",
   "pygments_lexer": "ipython3",
   "version": "3.10.4"
  }
 },
 "nbformat": 4,
 "nbformat_minor": 4
}
